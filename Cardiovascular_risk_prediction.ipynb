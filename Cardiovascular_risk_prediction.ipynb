{
  "nbformat": 4,
  "nbformat_minor": 0,
  "metadata": {
    "colab": {
      "private_outputs": true,
      "provenance": [],
      "collapsed_sections": [
        "vncDsAP0Gaoa",
        "FJNUwmbgGyua",
        "w6K7xa23Elo4",
        "yQaldy8SH6Dl",
        "mDgbUHAGgjLW",
        "O_i_v8NEhb9l",
        "HhfV-JJviCcP",
        "Y3lxredqlCYt",
        "3RnN4peoiCZX",
        "x71ZqKXriCWQ",
        "7hBIi_osiCS2",
        "JlHwYmJAmNHm",
        "35m5QtbWiB9F",
        "PoPl-ycgm1ru",
        "H0kj-8xxnORC",
        "nA9Y7ga8ng1Z",
        "PBTbrJXOngz2",
        "u3PMJOP6ngxN",
        "dauF4eBmngu3",
        "bKJF3rekwFvQ",
        "MSa1f5Uengrz",
        "GF8Ens_Soomf",
        "0wOQAZs5pc--",
        "K5QZ13OEpz2H",
        "lQ7QKXXCp7Bj",
        "448CDAPjqfQr",
        "KSlN3yHqYklG",
        "t6dVpIINYklI",
        "ijmpgYnKYklI",
        "-JiQyfWJYklI",
        "EM7whBJCYoAo",
        "fge-S5ZAYoAp",
        "85gYPyotYoAp",
        "RoGjAbkUYoAp",
        "4Of9eVA-YrdM",
        "iky9q4vBYrdO",
        "F6T5p64dYrdO",
        "y-Ehk30pYrdP",
        "bamQiAODYuh1",
        "QHF8YVU7Yuh3",
        "GwzvFGzlYuh3",
        "qYpmQ266Yuh3",
        "OH-pJp9IphqM",
        "bbFf2-_FphqN",
        "_ouA3fa0phqN",
        "Seke61FWphqN",
        "PIIx-8_IphqN",
        "t27r6nlMphqO",
        "r2jJGEOYphqO",
        "b0JNsNcRphqO",
        "BZR9WyysphqO",
        "jj7wYXLtphqO",
        "eZrbJ2SmphqO",
        "rFu4xreNphqO",
        "YJ55k-q6phqO",
        "gCFgpxoyphqP",
        "OVtJsKN_phqQ",
        "lssrdh5qphqQ",
        "U2RJ9gkRphqQ",
        "1M8mcRywphqQ",
        "tgIPom80phqQ",
        "JMzcOPDDphqR",
        "x-EpHcCOp1ci",
        "X_VqEhTip1ck",
        "8zGJKyg5p1ck",
        "PVzmfK_Ep1ck",
        "n3dbpmDWp1ck",
        "ylSl6qgtp1ck",
        "ZWILFDl5p1ck",
        "M7G43BXep1ck",
        "Ag9LCva-p1cl",
        "E6MkPsBcp1cl",
        "2cELzS2fp1cl",
        "3MPXvC8up1cl",
        "NC_X3p0fY2L0",
        "UV0SzAkaZNRQ",
        "YPEH6qLeZNRQ",
        "q29F0dvdveiT",
        "EXh0U9oCveiU",
        "22aHeOlLveiV",
        "g-ATYxFrGrvw",
        "Yfr_Vlr8HBkt",
        "8yEUt7NnHlrM",
        "tEA2Xm5dHt1r",
        "I79__PHVH19G",
        "Ou-I18pAyIpj",
        "fF3858GYyt-u",
        "4_0_7-oCpUZd",
        "hwyV_J3ipUZe",
        "3yB-zSqbpUZe",
        "dEUvejAfpUZe",
        "Fd15vwWVpUZf",
        "bn_IUdTipZyH",
        "49K5P_iCpZyH",
        "Nff-vKELpZyI",
        "kLW572S8pZyI",
        "dWbDXHzopZyI",
        "yLjJCtPM0KBk",
        "xiyOF9F70UgQ",
        "7wuGOrhz0itI",
        "id1riN9m0vUs",
        "578E2V7j08f6",
        "89xtkJwZ18nB",
        "67NQN5KX2AMe",
        "Iwf50b-R2tYG",
        "GMQiZwjn3iu7",
        "WVIkgGqN3qsr",
        "XkPnILGE3zoT",
        "Hlsf0x5436Go",
        "mT9DMSJo4nBL",
        "c49ITxTc407N",
        "OeJFEK0N496M",
        "9ExmJH0g5HBk",
        "cJNqERVU536h",
        "k5UmGsbsOxih",
        "T0VqWOYE6DLQ",
        "qBMux9mC6MCf",
        "-oLEiFgy-5Pf",
        "C74aWNz2AliB",
        "2DejudWSA-a0",
        "pEMng2IbBLp7",
        "rAdphbQ9Bhjc",
        "TNVZ9zx19K6k",
        "nqoHp30x9hH9",
        "rMDnDkt2B6du",
        "yiiVWRdJDDil",
        "1UUpS68QDMuG",
        "kexQrXU-DjzY",
        "T5CmagL3EC8N",
        "BhH2vgX9EjGr",
        "qjKvONjwE8ra",
        "P1XJ9OREExlT",
        "VFOzZv6IFROw",
        "TIqpNgepFxVj",
        "VfCC591jGiD4",
        "OB4l2ZhMeS1U",
        "ArJBuiUVfxKd",
        "4qY1EAkEfxKe",
        "PiV4Ypx8fxKe",
        "TfvqoZmBfxKf",
        "dJ2tPlVmpsJ0",
        "JWYfwnehpsJ1",
        "-jK_YjpMpsJ2",
        "HAih1iBOpsJ2",
        "zVGeBEFhpsJ2",
        "bmKjuQ-FpsJ3",
        "Fze-IPXLpx6K",
        "7AN1z2sKpx6M",
        "9PIHJqyupx6M",
        "_-qAgymDpx6N",
        "Z-hykwinpx6N",
        "h_CCil-SKHpo",
        "cBFFvTBNJzUa",
        "HvGl1hHyA_VK",
        "EyNgTHvd2WFk",
        "KH5McJBi2d8v",
        "iW_Lq9qf2h6X",
        "-Kee-DAl2viO",
        "gCX9965dhzqZ",
        "gIfDvo9L0UH2"
      ],
      "include_colab_link": true
    },
    "kernelspec": {
      "name": "python3",
      "display_name": "Python 3"
    },
    "language_info": {
      "name": "python"
    }
  },
  "cells": [
    {
      "cell_type": "markdown",
      "metadata": {
        "id": "view-in-github",
        "colab_type": "text"
      },
      "source": [
        "<a href=\"https://colab.research.google.com/github/Lasya-1408/Cardiovascular-risk-prediction-Almabetter/blob/main/Cardiovascular_risk_prediction.ipynb\" target=\"_parent\"><img src=\"https://colab.research.google.com/assets/colab-badge.svg\" alt=\"Open In Colab\"/></a>"
      ]
    },
    {
      "cell_type": "markdown",
      "source": [
        "# **Project Name**    -\n",
        "\n"
      ],
      "metadata": {
        "id": "vncDsAP0Gaoa"
      }
    },
    {
      "cell_type": "markdown",
      "source": [
        "##### **Project Type**    - Classification\n",
        "##### **Contribution**    - Individual\n"
      ],
      "metadata": {
        "id": "beRrZCGUAJYm"
      }
    },
    {
      "cell_type": "markdown",
      "source": [
        "# **Project Summary -**"
      ],
      "metadata": {
        "id": "FJNUwmbgGyua"
      }
    },
    {
      "cell_type": "markdown",
      "source": [
        "Write the summary here within 500-600 words."
      ],
      "metadata": {
        "id": "F6v_1wHtG2nS"
      }
    },
    {
      "cell_type": "markdown",
      "source": [
        "# **GitHub Link -**"
      ],
      "metadata": {
        "id": "w6K7xa23Elo4"
      }
    },
    {
      "cell_type": "markdown",
      "source": [
        "Provide your GitHub Link here."
      ],
      "metadata": {
        "id": "h1o69JH3Eqqn"
      }
    },
    {
      "cell_type": "markdown",
      "source": [
        "# **Problem Statement**\n"
      ],
      "metadata": {
        "id": "yQaldy8SH6Dl"
      }
    },
    {
      "cell_type": "markdown",
      "source": [
        "**Write Problem Statement Here.**"
      ],
      "metadata": {
        "id": "DpeJGUA3kjGy"
      }
    },
    {
      "cell_type": "markdown",
      "source": [
        "# ***Let's Begin !***"
      ],
      "metadata": {
        "id": "O_i_v8NEhb9l"
      }
    },
    {
      "cell_type": "markdown",
      "source": [
        "## ***1. Know Your Data***"
      ],
      "metadata": {
        "id": "HhfV-JJviCcP"
      }
    },
    {
      "cell_type": "markdown",
      "source": [
        "### Import Libraries"
      ],
      "metadata": {
        "id": "Y3lxredqlCYt"
      }
    },
    {
      "cell_type": "code",
      "source": [
        "# Import Libraries\n",
        "import numpy as np                   # For performing mathematical operations on dataset\n",
        "from numpy import math\n",
        "import pandas as pd                  # For accessing dataset\n",
        "import matplotlib.pyplot as plt      # For visualizations\n",
        "import seaborn as sns                # For visualizations\n"
      ],
      "metadata": {
        "id": "M8Vqi-pPk-HR"
      },
      "execution_count": null,
      "outputs": []
    },
    {
      "cell_type": "markdown",
      "source": [
        "### Dataset Loading"
      ],
      "metadata": {
        "id": "3RnN4peoiCZX"
      }
    },
    {
      "cell_type": "code",
      "source": [
        "# Load Dataset\n",
        "from google.colab import drive\n",
        "drive.mount('/content/drive')"
      ],
      "metadata": {
        "id": "4CkvbW_SlZ_R"
      },
      "execution_count": null,
      "outputs": []
    },
    {
      "cell_type": "code",
      "source": [
        "# Copy the file\n",
        "path = '/content/drive/MyDrive/Datasets_Almabetter/data_cardiovascular_risk.csv'\n",
        "# Read the file\n",
        "df = pd.read_csv(path)"
      ],
      "metadata": {
        "id": "4-dFkLXfNACk"
      },
      "execution_count": null,
      "outputs": []
    },
    {
      "cell_type": "markdown",
      "source": [
        "### Dataset First View"
      ],
      "metadata": {
        "id": "x71ZqKXriCWQ"
      }
    },
    {
      "cell_type": "code",
      "source": [
        "# Dataset First Look\n",
        "df"
      ],
      "metadata": {
        "id": "LWNFOSvLl09H"
      },
      "execution_count": null,
      "outputs": []
    },
    {
      "cell_type": "code",
      "source": [
        "# Top 5 rows of the dataset\n",
        "df.head()"
      ],
      "metadata": {
        "id": "VhEiUW7jM5Ba"
      },
      "execution_count": null,
      "outputs": []
    },
    {
      "cell_type": "code",
      "source": [
        "# Last 5 rows of dataset\n",
        "df.tail()"
      ],
      "metadata": {
        "id": "nSytedivOQ0m"
      },
      "execution_count": null,
      "outputs": []
    },
    {
      "cell_type": "markdown",
      "source": [
        "### Dataset Rows & Columns count"
      ],
      "metadata": {
        "id": "7hBIi_osiCS2"
      }
    },
    {
      "cell_type": "code",
      "source": [
        "# Dataset Rows & Columns count\n",
        "# Dataset Rows count\n",
        "print('The number of rows are',len(df.index))\n",
        "\n",
        "# Dataset Columns\n",
        "print('The number of columns are',len(df.columns))"
      ],
      "metadata": {
        "id": "Kllu7SJgmLij"
      },
      "execution_count": null,
      "outputs": []
    },
    {
      "cell_type": "markdown",
      "source": [
        "### Dataset Information"
      ],
      "metadata": {
        "id": "JlHwYmJAmNHm"
      }
    },
    {
      "cell_type": "code",
      "source": [
        "# Dataset Info\n",
        "df.info()"
      ],
      "metadata": {
        "id": "e9hRXRi6meOf"
      },
      "execution_count": null,
      "outputs": []
    },
    {
      "cell_type": "markdown",
      "source": [
        "#### Duplicate Values"
      ],
      "metadata": {
        "id": "35m5QtbWiB9F"
      }
    },
    {
      "cell_type": "code",
      "source": [
        "# Dataset Duplicate Value Count\n",
        "df.duplicated().sum()"
      ],
      "metadata": {
        "id": "1sLdpKYkmox0"
      },
      "execution_count": null,
      "outputs": []
    },
    {
      "cell_type": "markdown",
      "source": [
        "There are no duplicate values in the given dataset"
      ],
      "metadata": {
        "id": "y3ayAqekRy7r"
      }
    },
    {
      "cell_type": "markdown",
      "source": [
        "#### Missing Values/Null Values"
      ],
      "metadata": {
        "id": "PoPl-ycgm1ru"
      }
    },
    {
      "cell_type": "code",
      "source": [
        "# Missing Values/Null Values Count\n",
        "print(df.isnull().sum())\n",
        "\n",
        "def show_missing():\n",
        "    missing = df.columns[df.isnull().any()].tolist()\n",
        "    return missing\n",
        "print('Null values in percentages')\n",
        "print(round(df[show_missing()].isnull().sum().sort_values(ascending = False)/len(df)*100,2))"
      ],
      "metadata": {
        "id": "GgHWkxvamxVg"
      },
      "execution_count": null,
      "outputs": []
    },
    {
      "cell_type": "code",
      "source": [
        "# Visualizing the missing values\n",
        "missing_values_columns = df[show_missing()].columns.tolist()\n",
        "for i in missing_values_columns:\n",
        "  sns.displot(df[i])"
      ],
      "metadata": {
        "id": "3q5wnI3om9sJ"
      },
      "execution_count": null,
      "outputs": []
    },
    {
      "cell_type": "markdown",
      "source": [
        "From the above plots, we see that all the variables are having positively skewed distribution. Hence, we impute with median and mode for numerical and categorical variables respectively."
      ],
      "metadata": {
        "id": "LgSzC3keml5X"
      }
    },
    {
      "cell_type": "code",
      "source": [
        "df.isnull().sum()"
      ],
      "metadata": {
        "id": "XppWkAn4kW3A"
      },
      "execution_count": null,
      "outputs": []
    },
    {
      "cell_type": "markdown",
      "source": [
        "### What did you know about your dataset?"
      ],
      "metadata": {
        "id": "H0kj-8xxnORC"
      }
    },
    {
      "cell_type": "markdown",
      "source": [
        "The given dataset has 3390 rows and 17 columns\n",
        "* id, age, education, sex, is_smoking, cigsPerDay, BPMeds, prevalentStroke, 'prevalentHyp, diabetes, totChol, sysBP, diaBP, BMI, heartRate, glucose, and TenYearCHD are the variables present in the dataset.\n",
        "\n",
        "*  From the given dataset, we see that the target variable is TenYearCHD.\n",
        "*  Moreover, we notice that education, cigsperday, BPMeds, totChol, BMI, heartrate, and glucose are having 87, 22, 44, 38, 14, 1, and 304 missing values."
      ],
      "metadata": {
        "id": "gfoNAAC-nUe_"
      }
    },
    {
      "cell_type": "markdown",
      "source": [
        "## ***2. Understanding Your Variables***"
      ],
      "metadata": {
        "id": "nA9Y7ga8ng1Z"
      }
    },
    {
      "cell_type": "code",
      "source": [
        "# Dataset Columns\n",
        "df.columns"
      ],
      "metadata": {
        "id": "j7xfkqrt5Ag5"
      },
      "execution_count": null,
      "outputs": []
    },
    {
      "cell_type": "code",
      "source": [
        "# Dataset Describe\n",
        "df.describe()"
      ],
      "metadata": {
        "id": "DnOaZdaE5Q5t"
      },
      "execution_count": null,
      "outputs": []
    },
    {
      "cell_type": "markdown",
      "source": [
        "### Variables Description"
      ],
      "metadata": {
        "id": "PBTbrJXOngz2"
      }
    },
    {
      "cell_type": "markdown",
      "source": [
        "1.   id - A unique id given to each record/row\n",
        "2.   age - Age of the patient\n",
        "3.   education - Education of the patient\n",
        "4.   sex - Gender of the patient\n",
        "5.   is_smoking - Whether the patient is currently smoking or not\n",
        "6.  cigsperday - Cigarettes smoked per day\n",
        "7.   BPMeds - Whether patient is taking BP medicines or not\n",
        "8.   Prevalent stroke - If the patient has a history of stroke\n",
        "9.   Prevalent Hyp - If the patient has a history of hyper tension\n",
        "10.   diabetes - If patient has diabetes or not\n",
        "11.   totChol - Cholesterol measure of patient\n",
        "12.   sysBP - Systolic BP measure of patient\n",
        "13.   diaBP - Diastolic BP measure of patient\n",
        "14.   BMI - Body mass index of the patient\n",
        "15.   heartrate - Heartrate of the patient\n",
        "16.   glucose - glucose measure of the patient\n",
        "17.   TenYearCHD - heart disease risk prediction. If yes (1) and no (0)"
      ],
      "metadata": {
        "id": "aJV4KIxSnxay"
      }
    },
    {
      "cell_type": "markdown",
      "source": [
        "### Check Unique Values for each variable."
      ],
      "metadata": {
        "id": "u3PMJOP6ngxN"
      }
    },
    {
      "cell_type": "code",
      "source": [
        "# Check Unique Values for each variable.\n",
        "df['id'].unique()"
      ],
      "metadata": {
        "id": "zms12Yq5n-jE"
      },
      "execution_count": null,
      "outputs": []
    },
    {
      "cell_type": "code",
      "source": [
        "df['age'].unique()"
      ],
      "metadata": {
        "id": "wDHBQ_OqoU3d"
      },
      "execution_count": null,
      "outputs": []
    },
    {
      "cell_type": "code",
      "source": [
        "df['education'].unique()"
      ],
      "metadata": {
        "id": "tOZ7VKEkoZAG"
      },
      "execution_count": null,
      "outputs": []
    },
    {
      "cell_type": "code",
      "source": [
        "df['sex'].unique()"
      ],
      "metadata": {
        "id": "JejhOcYiof5T"
      },
      "execution_count": null,
      "outputs": []
    },
    {
      "cell_type": "code",
      "source": [
        "df['is_smoking'].unique()"
      ],
      "metadata": {
        "id": "P4rrPa2-ojWO"
      },
      "execution_count": null,
      "outputs": []
    },
    {
      "cell_type": "code",
      "source": [
        "df['cigsPerDay'].unique()"
      ],
      "metadata": {
        "id": "TRsA4pSmootg"
      },
      "execution_count": null,
      "outputs": []
    },
    {
      "cell_type": "code",
      "source": [
        "df['BPMeds'].unique()"
      ],
      "metadata": {
        "id": "PnnTO4IrotOb"
      },
      "execution_count": null,
      "outputs": []
    },
    {
      "cell_type": "code",
      "source": [
        "df['prevalentStroke'].unique()"
      ],
      "metadata": {
        "id": "s3htQI_ioxvf"
      },
      "execution_count": null,
      "outputs": []
    },
    {
      "cell_type": "code",
      "source": [
        "df['prevalentHyp'].unique()"
      ],
      "metadata": {
        "id": "y7z8LIKfo29T"
      },
      "execution_count": null,
      "outputs": []
    },
    {
      "cell_type": "code",
      "source": [
        "df['diabetes'].unique()"
      ],
      "metadata": {
        "id": "tUlPnr8po7PQ"
      },
      "execution_count": null,
      "outputs": []
    },
    {
      "cell_type": "code",
      "source": [
        "df['TenYearCHD'].unique()"
      ],
      "metadata": {
        "id": "_pLDvkvrpAgb"
      },
      "execution_count": null,
      "outputs": []
    },
    {
      "cell_type": "markdown",
      "source": [
        "## 3. ***Data Wrangling***"
      ],
      "metadata": {
        "id": "dauF4eBmngu3"
      }
    },
    {
      "cell_type": "markdown",
      "source": [
        "### Data Wrangling Code"
      ],
      "metadata": {
        "id": "bKJF3rekwFvQ"
      }
    },
    {
      "cell_type": "code",
      "source": [
        "# Write your code to make your dataset analysis ready.\n",
        "df.drop('id', axis=1, inplace = True)\n",
        "df['pulse_pressure'] = df['sysBP'] - df['diaBP']"
      ],
      "metadata": {
        "id": "wk-9a2fpoLcV"
      },
      "execution_count": null,
      "outputs": []
    },
    {
      "cell_type": "code",
      "source": [
        "df.head()"
      ],
      "metadata": {
        "id": "b3LwPk1h1REU"
      },
      "execution_count": null,
      "outputs": []
    },
    {
      "cell_type": "markdown",
      "source": [
        "### What all manipulations have you done and insights you found?"
      ],
      "metadata": {
        "id": "MSa1f5Uengrz"
      }
    },
    {
      "cell_type": "markdown",
      "source": [
        "From the dataset,\n",
        "* We removed id column since it has as many number of unique values as number of rows. Therefore, it is not needed in the dataset while model building.\n",
        "* Pulse pressure is calculated from sysBP and diaBP, as the information can be extracted from single variable instead of these two variables while model building."
      ],
      "metadata": {
        "id": "LbyXE7I1olp8"
      }
    },
    {
      "cell_type": "markdown",
      "source": [
        "## ***4. Data Vizualization, Storytelling & Experimenting with charts : Understand the relationships between variables***"
      ],
      "metadata": {
        "id": "GF8Ens_Soomf"
      }
    },
    {
      "cell_type": "markdown",
      "source": [
        "## ***1.Univariate Analysis***"
      ],
      "metadata": {
        "id": "zi7u2Hye1r4s"
      }
    },
    {
      "cell_type": "markdown",
      "source": [
        "### 1.1 TenYearCHD distribution"
      ],
      "metadata": {
        "id": "0wOQAZs5pc--"
      }
    },
    {
      "cell_type": "code",
      "source": [
        "# Chart - 1 visualization code\n",
        "df['TenYearCHD'].value_counts().plot(kind = 'bar', color = ('blue', 'orange'))\n",
        "plt.xlabel('TenYearCHD')\n",
        "plt.ylabel('Frequency')\n",
        "plt.title('Ten Year CHD distribution')"
      ],
      "metadata": {
        "id": "7v_ESjsspbW7"
      },
      "execution_count": null,
      "outputs": []
    },
    {
      "cell_type": "code",
      "source": [
        "df['TenYearCHD'].value_counts()"
      ],
      "metadata": {
        "id": "Nz5OZKXO3sdT"
      },
      "execution_count": null,
      "outputs": []
    },
    {
      "cell_type": "markdown",
      "source": [
        "##### 1. Why did you pick the specific chart?"
      ],
      "metadata": {
        "id": "K5QZ13OEpz2H"
      }
    },
    {
      "cell_type": "markdown",
      "source": [
        "To understand the distribution of TenYearCHD variable, a bar chart is chosen as it is a categorical variable. Therefore, easy to visualize through bar chart."
      ],
      "metadata": {
        "id": "XESiWehPqBRc"
      }
    },
    {
      "cell_type": "markdown",
      "source": [
        "##### 2. What is/are the insight(s) found from the chart?"
      ],
      "metadata": {
        "id": "lQ7QKXXCp7Bj"
      }
    },
    {
      "cell_type": "markdown",
      "source": [
        "From the bar plot, we see that most of the patients (2879) did not have a risk of coronary heart disease (CHD), whereas only few (511) of them are having risk of CHD."
      ],
      "metadata": {
        "id": "C_j1G7yiqdRP"
      }
    },
    {
      "cell_type": "markdown",
      "source": [
        "##### 3. Will the gained insights help creating a positive business impact?\n",
        "Are there any insights that lead to negative growth? Justify with specific reason."
      ],
      "metadata": {
        "id": "448CDAPjqfQr"
      }
    },
    {
      "cell_type": "markdown",
      "source": [
        "From the above conclusion, it is good to see that less number of people are having risk of CHD. But then we should also check the factors which effects patients to have a risk of CHD."
      ],
      "metadata": {
        "id": "3cspy4FjqxJW"
      }
    },
    {
      "cell_type": "markdown",
      "source": [
        "### 1.2 Age and BMI distributions"
      ],
      "metadata": {
        "id": "KSlN3yHqYklG"
      }
    },
    {
      "cell_type": "code",
      "source": [
        "# Chart - 2 visualization code\n",
        "\n",
        "fig, axs = plt.subplots(1, 2, figsize=(10, 4))\n",
        "\n",
        "# Plot distribution plots in the first subplot\n",
        "sns.histplot(df['age'], kde=True, ax=axs[0], color='blue', bins=20)\n",
        "axs[0].set_title('Age distribution')\n",
        "\n",
        "# Plot distribution plots in the second subplot\n",
        "sns.histplot(df['BMI'], kde=True, ax=axs[1], color='green', bins=20)\n",
        "axs[1].set_title('BMI distribution')"
      ],
      "metadata": {
        "id": "R4YgtaqtYklH"
      },
      "execution_count": null,
      "outputs": []
    },
    {
      "cell_type": "markdown",
      "source": [
        "##### 1. Why did you pick the specific chart?"
      ],
      "metadata": {
        "id": "t6dVpIINYklI"
      }
    },
    {
      "cell_type": "markdown",
      "source": [
        "To understand the distribution of age and BMI, we choose distribution plot as age and BMI are continous variables. It is easy to visualize through hist plot."
      ],
      "metadata": {
        "id": "5aaW0BYyYklI"
      }
    },
    {
      "cell_type": "markdown",
      "source": [
        "##### 2. What is/are the insight(s) found from the chart?"
      ],
      "metadata": {
        "id": "ijmpgYnKYklI"
      }
    },
    {
      "cell_type": "markdown",
      "source": [
        "From above displot,\n",
        "* We have different age groups of patients in the records. The range starts from 35 to 70 where most of the patients belongs to 40 years old.\n",
        "* In BMI, maximum BMI measure is in between 25 and 30, and the least is 40."
      ],
      "metadata": {
        "id": "PSx9atu2YklI"
      }
    },
    {
      "cell_type": "markdown",
      "source": [
        "### 1.3 Sex and Education charts"
      ],
      "metadata": {
        "id": "EM7whBJCYoAo"
      }
    },
    {
      "cell_type": "code",
      "source": [
        "# Chart - 3 visualization code\n",
        "\n",
        "fig, axs = plt.subplots(1,2)\n",
        "plt.subplots_adjust(wspace=0.4, hspace=0.4)\n",
        "\n",
        "df['sex'].value_counts().plot(figsize = (10,5), kind = 'bar', ax=axs[0], rot=0)\n",
        "\n",
        "df['education'].value_counts().plot(figsize = (10,5), kind = 'bar',ax=axs[1], rot=0)\n",
        "\n",
        "axs[0].set_xlabel('Sex',fontsize=12)\n",
        "axs[0].set_ylabel('Frequency', fontsize=12)\n",
        "axs[0].set_title('Gender plot', fontsize=12)\n",
        "\n",
        "axs[1].set_xlabel('Education', fontsize=12)\n",
        "axs[1].set_ylabel('Frequency',  fontsize=12)\n",
        "axs[1].set_title('Education plot')\n"
      ],
      "metadata": {
        "id": "t6GMdE67YoAp"
      },
      "execution_count": null,
      "outputs": []
    },
    {
      "cell_type": "markdown",
      "source": [
        "##### 1. Why did you pick the specific chart?"
      ],
      "metadata": {
        "id": "fge-S5ZAYoAp"
      }
    },
    {
      "cell_type": "markdown",
      "source": [
        "To understand the charts of sex and education, we choose bar plot as they both are categorical variables. It will be easy to visualize the chart."
      ],
      "metadata": {
        "id": "5dBItgRVYoAp"
      }
    },
    {
      "cell_type": "markdown",
      "source": [
        "##### 2. What is/are the insight(s) found from the chart?"
      ],
      "metadata": {
        "id": "85gYPyotYoAp"
      }
    },
    {
      "cell_type": "markdown",
      "source": [
        "From the above barplots,\n",
        "* In sex chart, we have more female records than male in the given dataset.\n",
        "* In education chart, we have categories (1,2,3,4) from which most of the patients belong to category 1."
      ],
      "metadata": {
        "id": "4jstXR6OYoAp"
      }
    },
    {
      "cell_type": "markdown",
      "source": [
        "### 1.4 Is_smoking and CigsPerDay distribution"
      ],
      "metadata": {
        "id": "4Of9eVA-YrdM"
      }
    },
    {
      "cell_type": "code",
      "source": [
        "# Chart - 4 visualization code\n",
        "fig, axs = plt.subplots(1,2)\n",
        "plt.subplots_adjust(wspace=0.4, hspace=0.4)\n",
        "\n",
        "df['is_smoking'].value_counts().plot(figsize = (10,5), kind = 'pie', autopct=\"%.0f%%\", ax=axs[0], rot=0)\n",
        "\n",
        "sns.histplot(df['cigsPerDay'], ax=axs[1])\n",
        "\n",
        "axs[0].set_xlabel('is_Smoking',fontsize=12)\n",
        "axs[0].set_ylabel('Frequency', fontsize=12)\n",
        "axs[0].set_title('Smoking frequency', fontsize=12)\n"
      ],
      "metadata": {
        "id": "irlUoxc8YrdO"
      },
      "execution_count": null,
      "outputs": []
    },
    {
      "cell_type": "markdown",
      "source": [
        "##### 1. Why did you pick the specific chart?"
      ],
      "metadata": {
        "id": "iky9q4vBYrdO"
      }
    },
    {
      "cell_type": "markdown",
      "source": [
        "To understand the distributions of is_smoking and cigsperday, we choose pie plot and histplot respectively depending on the type of variable. This way it is easy to viasualize the charts."
      ],
      "metadata": {
        "id": "aJRCwT6DYrdO"
      }
    },
    {
      "cell_type": "markdown",
      "source": [
        "##### 2. What is/are the insight(s) found from the chart?"
      ],
      "metadata": {
        "id": "F6T5p64dYrdO"
      }
    },
    {
      "cell_type": "markdown",
      "source": [
        "* From pie plot, we see that number of patients smoking and are not smoking are of same percentage(50).\n",
        "* From histplot, we see that there are maximum records for zero cigerattes per day which comes under no smoking category and 20 is the maximum number of cigerattes smoked per day as per the given dataset."
      ],
      "metadata": {
        "id": "Xx8WAJvtYrdO"
      }
    },
    {
      "cell_type": "markdown",
      "source": [
        "### 1.5 Sys BP and diaBP distribution"
      ],
      "metadata": {
        "id": "bamQiAODYuh1"
      }
    },
    {
      "cell_type": "code",
      "source": [
        "# Chart - 5 visualization code\n",
        "\n",
        "fig, axs = plt.subplots(1, 2, figsize=(10, 4))\n",
        "\n",
        "# Plot histograms in the first subplot\n",
        "axs[0].hist(df['sysBP'], bins=20, color='blue', alpha=0.7)\n",
        "axs[0].set_title('Systole BP')\n",
        "\n",
        "# Plot histograms in the second subplot\n",
        "axs[1].hist(df['diaBP'], bins=20, color='green', alpha=0.7)\n",
        "axs[1].set_title('Diastole BP')\n",
        "\n",
        "# Adjust layout for better spacing\n",
        "plt.tight_layout()\n",
        "\n",
        "# Show the plot\n",
        "plt.show()\n"
      ],
      "metadata": {
        "id": "TIJwrbroYuh3"
      },
      "execution_count": null,
      "outputs": []
    },
    {
      "cell_type": "markdown",
      "source": [
        "##### 1. Why did you pick the specific chart?"
      ],
      "metadata": {
        "id": "QHF8YVU7Yuh3"
      }
    },
    {
      "cell_type": "markdown",
      "source": [
        "To understand the distribution of sysBP and diaBP, we choose distribution plot as they both are continous variables. It will be easy to visualize the charts."
      ],
      "metadata": {
        "id": "dcxuIMRPYuh3"
      }
    },
    {
      "cell_type": "markdown",
      "source": [
        "##### 2. What is/are the insight(s) found from the chart?"
      ],
      "metadata": {
        "id": "GwzvFGzlYuh3"
      }
    },
    {
      "cell_type": "markdown",
      "source": [
        "From the above plots, we see that systole BP is positively skewed having maximum measure in between 100 and 150, whereas diastole distribution is almost normal having maximum measure of 80."
      ],
      "metadata": {
        "id": "uyqkiB8YYuh3"
      }
    },
    {
      "cell_type": "markdown",
      "source": [
        "### 1.6 Prevalent stroke and prevalent hyp distribution"
      ],
      "metadata": {
        "id": "OH-pJp9IphqM"
      }
    },
    {
      "cell_type": "code",
      "source": [
        "# Chart - 6 visualization code\n",
        "\n",
        "fig, axs = plt.subplots(1,2)\n",
        "plt.subplots_adjust(wspace=0.4, hspace=0.4)\n",
        "\n",
        "df['prevalentStroke'].value_counts().plot(figsize = (10,5), kind = 'bar', ax=axs[0], rot=0)\n",
        "\n",
        "df['prevalentHyp'].value_counts().plot(figsize = (10,5), kind = 'bar',ax=axs[1], rot=0)\n",
        "\n",
        "\n",
        "\n",
        "axs[0].set_xlabel('prevalent stroke',fontsize=12)\n",
        "axs[0].set_ylabel('frequency', fontsize=12)\n",
        "axs[0].set_title('prevalent stroke frequency', fontsize=12)\n",
        "\n",
        "\n",
        "axs[1].set_xlabel('prevalent hyper tension', fontsize=12)\n",
        "axs[1].set_ylabel('frequency',  fontsize=12)\n",
        "axs[1].set_title('prevalent hyper tension frequency')\n"
      ],
      "metadata": {
        "id": "kuRf4wtuphqN"
      },
      "execution_count": null,
      "outputs": []
    },
    {
      "cell_type": "markdown",
      "source": [
        "##### 1. Why did you pick the specific chart?"
      ],
      "metadata": {
        "id": "bbFf2-_FphqN"
      }
    },
    {
      "cell_type": "markdown",
      "source": [
        "To understand the distributions of prevalent stroke and prevalent hyper tension, we choose bar plots as they are categorical variables."
      ],
      "metadata": {
        "id": "loh7H2nzphqN"
      }
    },
    {
      "cell_type": "markdown",
      "source": [
        "##### 2. What is/are the insight(s) found from the chart?"
      ],
      "metadata": {
        "id": "_ouA3fa0phqN"
      }
    },
    {
      "cell_type": "markdown",
      "source": [
        "From the above bar plots,\n",
        "* In prevalent stroke plot, there are very few patients who are having previous history of stroke.\n",
        "* In prevalent hyper tension plot, there are about half of the records with previous hyper tension reports"
      ],
      "metadata": {
        "id": "VECbqPI7phqN"
      }
    },
    {
      "cell_type": "markdown",
      "source": [
        "### 1.7 Glucose and heartrate distribution"
      ],
      "metadata": {
        "id": "PIIx-8_IphqN"
      }
    },
    {
      "cell_type": "code",
      "source": [
        "# Chart - 7 visualization code\n",
        "fig, axs = plt.subplots(1, 2, figsize=(10, 4))\n",
        "\n",
        "# Plot distribution plots in the first subplot\n",
        "sns.histplot(df['glucose'], kde=True, ax=axs[0], color='purple', bins=20)\n",
        "axs[0].set_title('Glucose measurement plot')\n",
        "\n",
        "# Plot distribution plots in the second subplot\n",
        "sns.histplot(df['heartRate'], kde=True, ax=axs[1], color='red', bins=20)\n",
        "axs[1].set_title('Heartrate measurement plot')\n"
      ],
      "metadata": {
        "id": "lqAIGUfyphqO"
      },
      "execution_count": null,
      "outputs": []
    },
    {
      "cell_type": "markdown",
      "source": [
        "##### 1. Why did you pick the specific chart?"
      ],
      "metadata": {
        "id": "t27r6nlMphqO"
      }
    },
    {
      "cell_type": "markdown",
      "source": [
        "To understand the distribution of glucose and heartrate, we choose histplots as they both are continous variables."
      ],
      "metadata": {
        "id": "iv6ro40sphqO"
      }
    },
    {
      "cell_type": "markdown",
      "source": [
        "##### 2. What is/are the insight(s) found from the chart?"
      ],
      "metadata": {
        "id": "r2jJGEOYphqO"
      }
    },
    {
      "cell_type": "markdown",
      "source": [
        "From above bar plots,\n",
        "* In glucose plot, we see that it is positively skewed with a maximum measure of around 90\n",
        "* In heartrate plot, we notice that the plot is normally distributed with a maximum measure of 80."
      ],
      "metadata": {
        "id": "Po6ZPi4hphqO"
      }
    },
    {
      "cell_type": "markdown",
      "source": [
        "### 1.8 Diabetes and BPMeds distribution"
      ],
      "metadata": {
        "id": "BZR9WyysphqO"
      }
    },
    {
      "cell_type": "code",
      "source": [
        "# Chart - 8 visualization code\n",
        "fig, axs = plt.subplots(1,2)\n",
        "plt.subplots_adjust(wspace=0.4, hspace=0.4)\n",
        "\n",
        "df['diabetes'].value_counts().plot(figsize = (10,5), kind = 'bar', ax=axs[0], rot=0)\n",
        "\n",
        "df['BPMeds'].value_counts().plot(figsize = (10,5), kind = 'bar',ax=axs[1], rot=0)\n",
        "\n",
        "\n",
        "\n",
        "axs[0].set_xlabel('Diabetes',fontsize=12)\n",
        "axs[0].set_ylabel('frequency', fontsize=12)\n",
        "axs[0].set_title('Diabetes measurement', fontsize=12)\n",
        "\n",
        "\n",
        "axs[1].set_xlabel('BPMeds', fontsize=12)\n",
        "axs[1].set_ylabel('frequency',  fontsize=12)\n",
        "axs[1].set_title('BPMeds count')"
      ],
      "metadata": {
        "id": "TdPTWpAVphqO"
      },
      "execution_count": null,
      "outputs": []
    },
    {
      "cell_type": "markdown",
      "source": [
        "##### 1. Why did you pick the specific chart?"
      ],
      "metadata": {
        "id": "jj7wYXLtphqO"
      }
    },
    {
      "cell_type": "markdown",
      "source": [
        "To understand the distribution of diabetes and BPMeds, we choose bar plot as they both are categorical variables."
      ],
      "metadata": {
        "id": "Ob8u6rCTphqO"
      }
    },
    {
      "cell_type": "markdown",
      "source": [
        "##### 2. What is/are the insight(s) found from the chart?"
      ],
      "metadata": {
        "id": "eZrbJ2SmphqO"
      }
    },
    {
      "cell_type": "markdown",
      "source": [
        "From above plots,\n",
        "* In diabetes plot, there are very few patients who are having diabetes.\n",
        "* In BPMeds plot, less number of patients are taking BP medicines."
      ],
      "metadata": {
        "id": "mZtgC_hjphqO"
      }
    },
    {
      "cell_type": "markdown",
      "source": [
        "### 1.9 Total cholesterol distribution"
      ],
      "metadata": {
        "id": "YJ55k-q6phqO"
      }
    },
    {
      "cell_type": "code",
      "source": [
        "# Chart - 9 visualization code\n",
        "df['totChol'].hist()"
      ],
      "metadata": {
        "id": "B2aS4O1ophqO"
      },
      "execution_count": null,
      "outputs": []
    },
    {
      "cell_type": "markdown",
      "source": [
        "##### 1. Why did you pick the specific chart?"
      ],
      "metadata": {
        "id": "gCFgpxoyphqP"
      }
    },
    {
      "cell_type": "markdown",
      "source": [
        "A representation of the distribution of a continuous variable is called a histogram. It counts the number of data points that fall into each interval after dividing the variable's range into discrete intervals. Since totChol is a continous variable, histogram is chosen."
      ],
      "metadata": {
        "id": "TVxDimi2phqP"
      }
    },
    {
      "cell_type": "markdown",
      "source": [
        "##### 2. What is/are the insight(s) found from the chart?"
      ],
      "metadata": {
        "id": "OVtJsKN_phqQ"
      }
    },
    {
      "cell_type": "markdown",
      "source": [
        "From the above plot, it is observed that the plot is almost normally distributed where maximum measure of total cholesterol is in between 200 and 300."
      ],
      "metadata": {
        "id": "ngGi97qjphqQ"
      }
    },
    {
      "cell_type": "markdown",
      "source": [
        "## **2. Bivariate Analysis**"
      ],
      "metadata": {
        "id": "UQzBmfPv13Qn"
      }
    },
    {
      "cell_type": "markdown",
      "source": [
        "### 2.1 TenYearCHD risk among different age groups"
      ],
      "metadata": {
        "id": "U2RJ9gkRphqQ"
      }
    },
    {
      "cell_type": "code",
      "source": [
        "# Chart - 10 visualization code\n",
        "#df.groupby('age')['TenYearCHD'].value_counts().unstack().plot(kind = 'line')\n",
        "df_risk = df[df['TenYearCHD'] == 1]\n",
        "df_risk.groupby('age')['TenYearCHD'].value_counts().unstack().plot(kind = 'bar')"
      ],
      "metadata": {
        "id": "GM7a4YP4phqQ"
      },
      "execution_count": null,
      "outputs": []
    },
    {
      "cell_type": "markdown",
      "source": [
        "##### 1. Why did you pick the specific chart?"
      ],
      "metadata": {
        "id": "1M8mcRywphqQ"
      }
    },
    {
      "cell_type": "markdown",
      "source": [
        "Here to understand which age groups have risk of CHD, we choose bar plot as TenYearCHD is a categorical variable and also to be more accurate in visualizing the age."
      ],
      "metadata": {
        "id": "8agQvks0phqQ"
      }
    },
    {
      "cell_type": "markdown",
      "source": [
        "##### 2. What is/are the insight(s) found from the chart?"
      ],
      "metadata": {
        "id": "tgIPom80phqQ"
      }
    },
    {
      "cell_type": "markdown",
      "source": [
        "From the above bar plot, most of the records who has risk to CHD are in the age group between 38 to 68 in which maximum patients having CHD risk are of 63 years old followed by 52 years old."
      ],
      "metadata": {
        "id": "Qp13pnNzphqQ"
      }
    },
    {
      "cell_type": "markdown",
      "source": [
        "### 2.2 Effect of smoking and number of cigarettes on having risk for CHD"
      ],
      "metadata": {
        "id": "x-EpHcCOp1ci"
      }
    },
    {
      "cell_type": "code",
      "source": [
        "plt.figure(figsize=(10,5))\n",
        "df_grouped = df.groupby('is_smoking')['TenYearCHD'].value_counts(normalize=True).unstack(\"TenYearCHD\")*100\n",
        "ax = df_grouped.plot.barh(stacked=True)\n",
        "\n",
        "for ix, j in df_grouped.reset_index(drop=True).iterrows():\n",
        "         #print(j)\n",
        "        sum = 0\n",
        "        for i in j:\n",
        "            if i > 0:\n",
        "                plt.text( sum + i / 2,ix, f\"{int(i)} %\", va=\"center\", ha=\"center\")\n",
        "            sum += i\n",
        "plt.show()\n",
        "\n",
        "sns.barplot(x = 'TenYearCHD', y = 'cigsPerDay', data = df)"
      ],
      "metadata": {
        "id": "TMjpE06w5RMu"
      },
      "execution_count": null,
      "outputs": []
    },
    {
      "cell_type": "markdown",
      "source": [
        "##### 1. Why did you pick the specific chart?"
      ],
      "metadata": {
        "id": "X_VqEhTip1ck"
      }
    },
    {
      "cell_type": "markdown",
      "source": [
        "To understand whether there is a significant effect of smoking on having a risk for CHD, we choose stacked horizontal bar plot as they both are categorical variable. Also here we analyse the effect of number of cigarettes consumed per day"
      ],
      "metadata": {
        "id": "-vsMzt_np1ck"
      }
    },
    {
      "cell_type": "markdown",
      "source": [
        "##### 2. What is/are the insight(s) found from the chart?"
      ],
      "metadata": {
        "id": "8zGJKyg5p1ck"
      }
    },
    {
      "cell_type": "markdown",
      "source": [
        "* In smoking bar plot, we conclude that 16% of patients are having risk for CHD under smoking category whereas 13% of patients are having risk under no smoking category. Therefore, smoking increases risk for CHD.\n",
        "* In cigsperday plot, we notice that more number of cigarettes consumed per day leads to CHD."
      ],
      "metadata": {
        "id": "ZYdMsrqVp1ck"
      }
    },
    {
      "cell_type": "markdown",
      "source": [
        "### 2.3 TenYearCHD risk patients having prevalent stroke"
      ],
      "metadata": {
        "id": "n3dbpmDWp1ck"
      }
    },
    {
      "cell_type": "code",
      "source": [
        "#Chart - 12 visualization code\n",
        "plt.figure(figsize=(10,5))\n",
        "df_grouped = df.groupby('prevalentStroke')['TenYearCHD'].value_counts(normalize=True).unstack(\"TenYearCHD\")*100\n",
        "ax = df_grouped.plot.barh(stacked=True)\n",
        "\n",
        "for ix, j in df_grouped.reset_index(drop=True).iterrows():\n",
        "         #print(j)\n",
        "        sum = 0\n",
        "        for i in j:\n",
        "            if i > 0:\n",
        "                plt.text( sum + i / 2,ix, f\"{int(i)} %\", va=\"center\", ha=\"center\")\n",
        "            sum += i\n",
        "plt.show()"
      ],
      "metadata": {
        "id": "Xn3MD2XuEV6N"
      },
      "execution_count": null,
      "outputs": []
    },
    {
      "cell_type": "markdown",
      "source": [
        "##### 1. Why did you pick the specific chart?"
      ],
      "metadata": {
        "id": "ylSl6qgtp1ck"
      }
    },
    {
      "cell_type": "markdown",
      "source": [
        "To understand whether there is an effect of prevalent stroke on having risk for CHD, we choose stacked bar chart as they both are categorical variables."
      ],
      "metadata": {
        "id": "m2xqNkiQp1ck"
      }
    },
    {
      "cell_type": "markdown",
      "source": [
        "##### 2. What is/are the insight(s) found from the chart?"
      ],
      "metadata": {
        "id": "ZWILFDl5p1ck"
      }
    },
    {
      "cell_type": "markdown",
      "source": [
        "From the above plot, we see that patients who had previous stroke history which are of 45% are majorly having risk for CHD than patients who did not have any previous stroke history which are of 14%."
      ],
      "metadata": {
        "id": "x-lUsV2mp1ck"
      }
    },
    {
      "cell_type": "markdown",
      "source": [
        "### 2.4 TenYearCHD risk based on glucose measurement"
      ],
      "metadata": {
        "id": "Ag9LCva-p1cl"
      }
    },
    {
      "cell_type": "code",
      "source": [
        "# Chart - 13 visualization code\n",
        "sns.barplot(x=df['TenYearCHD'], y=df['glucose'])"
      ],
      "metadata": {
        "id": "EUfxeq9-p1cl"
      },
      "execution_count": null,
      "outputs": []
    },
    {
      "cell_type": "markdown",
      "source": [
        "##### 1. Why did you pick the specific chart?"
      ],
      "metadata": {
        "id": "E6MkPsBcp1cl"
      }
    },
    {
      "cell_type": "markdown",
      "source": [
        "To understand the effect of glucose level on CHD, we choose bar plot as TenYearCHD is a categorical variable."
      ],
      "metadata": {
        "id": "V22bRsFWp1cl"
      }
    },
    {
      "cell_type": "markdown",
      "source": [
        "##### 2. What is/are the insight(s) found from the chart?"
      ],
      "metadata": {
        "id": "2cELzS2fp1cl"
      }
    },
    {
      "cell_type": "markdown",
      "source": [
        "From the above plot, we see that for measure of glucose upto 80, we dont see any difference whereas after 80 it seems like effecting to have risk for CHD."
      ],
      "metadata": {
        "id": "ozQPc2_Ip1cl"
      }
    },
    {
      "cell_type": "markdown",
      "source": [
        "##### 3. Will the gained insights help creating a positive business impact?\n",
        "Are there any insights that lead to negative growth? Justify with specific reason."
      ],
      "metadata": {
        "id": "3MPXvC8up1cl"
      }
    },
    {
      "cell_type": "markdown",
      "source": [
        "Answer Here"
      ],
      "metadata": {
        "id": "GL8l1tdLp1cl"
      }
    },
    {
      "cell_type": "markdown",
      "source": [
        "### 2.5 TenYearCHD risk based on patient's prevalent Hyper tension"
      ],
      "metadata": {
        "id": "9CLc5WDqVAYh"
      }
    },
    {
      "cell_type": "code",
      "source": [
        "plt.figure(figsize=(10,5))\n",
        "df_grouped = df.groupby('prevalentHyp')['TenYearCHD'].value_counts(normalize=True).unstack(\"TenYearCHD\")*100\n",
        "ax = df_grouped.plot.barh(stacked=True)\n",
        "\n",
        "for ix, j in df_grouped.reset_index(drop=True).iterrows():\n",
        "         #print(j)\n",
        "        sum = 0\n",
        "        for i in j:\n",
        "            if i > 0:\n",
        "                plt.text( sum + i / 2,ix, f\"{int(i)} %\", va=\"center\", ha=\"center\")\n",
        "            sum += i\n",
        "plt.show()"
      ],
      "metadata": {
        "id": "c0BaRc9pVAYq"
      },
      "execution_count": null,
      "outputs": []
    },
    {
      "cell_type": "markdown",
      "source": [
        "##### 1. Why did you pick the specific chart?"
      ],
      "metadata": {
        "id": "XHEbeJxMVAYq"
      }
    },
    {
      "cell_type": "markdown",
      "source": [
        "To understand whether having a history if hyper tension could lead to CHD, we choose stacked bar chart as they both are categorical variables."
      ],
      "metadata": {
        "id": "_Q34WNZPVAYr"
      }
    },
    {
      "cell_type": "markdown",
      "source": [
        "##### 2. What is/are the insight(s) found from the chart?"
      ],
      "metadata": {
        "id": "XZQFpTxvVAYr"
      }
    },
    {
      "cell_type": "markdown",
      "source": [
        "From the above plot, we observe that when compared both the categories in hyper tension column, 23% of patients who are having history of hyper tension are having risk whereas patients who are not having history of hyper tension are of 11%."
      ],
      "metadata": {
        "id": "U_56GoDDVAYr"
      }
    },
    {
      "cell_type": "markdown",
      "source": [
        "### 2.6 Effect of heartrate on CHD"
      ],
      "metadata": {
        "id": "QbiA3dMycZBF"
      }
    },
    {
      "cell_type": "code",
      "source": [
        "sns.barplot(x=df['TenYearCHD'], y=df['heartRate'])"
      ],
      "metadata": {
        "id": "NktlAxgccZBP"
      },
      "execution_count": null,
      "outputs": []
    },
    {
      "cell_type": "markdown",
      "source": [
        "##### 1. Why did you pick the specific chart?"
      ],
      "metadata": {
        "id": "iApyb4cvcZBP"
      }
    },
    {
      "cell_type": "markdown",
      "source": [
        "To understand effect of heartrate on CHD, we choose stacked bar chart as there is a continuous and a categorical variable to visualize."
      ],
      "metadata": {
        "id": "rjUIr5NPcZBP"
      }
    },
    {
      "cell_type": "markdown",
      "source": [
        "##### 2. What is/are the insight(s) found from the chart?"
      ],
      "metadata": {
        "id": "L9V3hfRocZBP"
      }
    },
    {
      "cell_type": "markdown",
      "source": [
        "From the above plot, we observe that there is no significant effect of heartrate on CHD."
      ],
      "metadata": {
        "id": "HcrnpPcUcZBP"
      }
    },
    {
      "cell_type": "markdown",
      "source": [
        "### 2.7 Effect of totChol on CHD"
      ],
      "metadata": {
        "id": "OsONFRvuco5Q"
      }
    },
    {
      "cell_type": "code",
      "source": [
        "sns.barplot(x=df['TenYearCHD'], y=df['totChol'])"
      ],
      "metadata": {
        "id": "7YNzCYYeco5h"
      },
      "execution_count": null,
      "outputs": []
    },
    {
      "cell_type": "markdown",
      "source": [
        "##### 1. Why did you pick the specific chart?"
      ],
      "metadata": {
        "id": "-_DNb6mtco5i"
      }
    },
    {
      "cell_type": "markdown",
      "source": [
        "To understand effect of total cholesterol on CHD, we choose barplot as totChol is continuous and TenYearCHD is categorical variable."
      ],
      "metadata": {
        "id": "-Ls30EJvco5i"
      }
    },
    {
      "cell_type": "markdown",
      "source": [
        "##### 2. What is/are the insight(s) found from the chart?"
      ],
      "metadata": {
        "id": "txdSqZQtco5i"
      }
    },
    {
      "cell_type": "markdown",
      "source": [
        "From the above plot, we notice that higher level of cholesterol can lead to having risk for CHD."
      ],
      "metadata": {
        "id": "cGQmT27qco5i"
      }
    },
    {
      "cell_type": "markdown",
      "source": [
        "### 2.8 Effect of sysBP and diaBP on CHD"
      ],
      "metadata": {
        "id": "MJGO3xHGdKDm"
      }
    },
    {
      "cell_type": "code",
      "source": [
        "fig, axes = plt.subplots(1, 2, figsize=(10, 5))\n",
        "\n",
        "# Plot 1: Bar plot for sysBP\n",
        "sns.barplot(x='TenYearCHD', y='sysBP', data=df, ax=axes[0])\n",
        "axes[0].set_title('Bar Plot for sys BP')\n",
        "\n",
        "# Plot 2: Bar plot for diaBP\n",
        "sns.barplot(x='TenYearCHD', y='diaBP', data=df, ax=axes[1])\n",
        "axes[1].set_title('Bar Plot for diaBP')\n",
        "\n",
        "\n",
        "# Show the plot\n",
        "plt.show()"
      ],
      "metadata": {
        "id": "EHmO4mzqdKDu"
      },
      "execution_count": null,
      "outputs": []
    },
    {
      "cell_type": "markdown",
      "source": [
        "##### 1. Why did you pick the specific chart?"
      ],
      "metadata": {
        "id": "X3FQj_wqdKDu"
      }
    },
    {
      "cell_type": "markdown",
      "source": [
        "To understand the effect of sysBP and diaBP on CHD, we choose barplots as we have both continuous and categorical variables."
      ],
      "metadata": {
        "id": "cnq66FESdKDu"
      }
    },
    {
      "cell_type": "markdown",
      "source": [
        "##### 2. What is/are the insight(s) found from the chart?"
      ],
      "metadata": {
        "id": "Zs6prND4dKDu"
      }
    },
    {
      "cell_type": "markdown",
      "source": [
        "From the above plots, we observe that sysBP above 130 and diaBP above 80 can lead to having a risk for CHD."
      ],
      "metadata": {
        "id": "ZiuyU1hGdKDv"
      }
    },
    {
      "cell_type": "markdown",
      "source": [
        "### Chart - 18 - Pair Plot"
      ],
      "metadata": {
        "id": "q29F0dvdveiT"
      }
    },
    {
      "cell_type": "code",
      "source": [
        "# Pair Plot visualization code\n",
        "Continuous_variables = ['age','cigsPerDay','totChol','sysBP','diaBP','BMI','heartRate','glucose']\n",
        "sns.pairplot(df[Continuous_variables])\n",
        "plt.show()"
      ],
      "metadata": {
        "id": "o58-TEIhveiU"
      },
      "execution_count": null,
      "outputs": []
    },
    {
      "cell_type": "markdown",
      "source": [
        "##### 1. Why did you pick the specific chart?"
      ],
      "metadata": {
        "id": "EXh0U9oCveiU"
      }
    },
    {
      "cell_type": "markdown",
      "source": [
        "To understand the relation among numerical variables, we choose pair plot so that it gives us the all possible pair plots."
      ],
      "metadata": {
        "id": "eMmPjTByveiU"
      }
    },
    {
      "cell_type": "markdown",
      "source": [
        "##### 2. What is/are the insight(s) found from the chart?"
      ],
      "metadata": {
        "id": "22aHeOlLveiV"
      }
    },
    {
      "cell_type": "markdown",
      "source": [
        "From the above plot, we observe that\n",
        "* sysBP and diaBP are linearly related.\n",
        "* sysBP and BMI seems to have a positive relationship.\n",
        "* diaBP and BMI also have a positive relationship."
      ],
      "metadata": {
        "id": "uPQ8RGwHveiV"
      }
    },
    {
      "cell_type": "markdown",
      "source": [
        "### Chart - 19 - Correlation Heatmap"
      ],
      "metadata": {
        "id": "NC_X3p0fY2L0"
      }
    },
    {
      "cell_type": "code",
      "source": [
        "# Correlation Heatmap visualization code\n",
        "fig = plt.figure(figsize=(15, 8))\n",
        "correlation = df.corr()\n",
        "sns.heatmap(correlation, annot=True, cmap='coolwarm')"
      ],
      "metadata": {
        "id": "xyC9zolEZNRQ"
      },
      "execution_count": null,
      "outputs": []
    },
    {
      "cell_type": "markdown",
      "source": [
        "##### 1. Why did you pick the specific chart?"
      ],
      "metadata": {
        "id": "UV0SzAkaZNRQ"
      }
    },
    {
      "cell_type": "markdown",
      "source": [
        "Heatmap helps us visualize the correlation among the variables. It also gives us the correlation value."
      ],
      "metadata": {
        "id": "DVPuT8LYZNRQ"
      }
    },
    {
      "cell_type": "markdown",
      "source": [
        "##### 2. What is/are the insight(s) found from the chart?"
      ],
      "metadata": {
        "id": "YPEH6qLeZNRQ"
      }
    },
    {
      "cell_type": "markdown",
      "source": [
        "From heatmap, we see the following observations\n",
        "* Since pulse pressure is extracted from sysBP and diaBP, they are strongly correlated with pulse pressure. Hence they can be removed from the dataset.\n",
        "* prevalent hyp and sysBP are correlated (0.7).\n",
        "* prevalent hyp and diaBP are correlated (0.61).\n",
        "* diabetes and glusose are correlated (0.62).\n",
        "* sysBP and diaBP are mutually correlated (0.78).\n",
        "* Therefore, prevalent hyp and diabetes can be dropped from the dataset while model building."
      ],
      "metadata": {
        "id": "bfSqtnDqZNRR"
      }
    },
    {
      "cell_type": "markdown",
      "source": [
        "## ***5. Hypothesis Testing***"
      ],
      "metadata": {
        "id": "g-ATYxFrGrvw"
      }
    },
    {
      "cell_type": "markdown",
      "source": [
        "### Based on your chart experiments, define three hypothetical statements from the dataset. In the next three questions, perform hypothesis testing to obtain final conclusion about the statements through your code and statistical testing."
      ],
      "metadata": {
        "id": "Yfr_Vlr8HBkt"
      }
    },
    {
      "cell_type": "markdown",
      "source": [],
      "metadata": {
        "id": "-7MS06SUHkB-"
      }
    },
    {
      "cell_type": "markdown",
      "source": [
        "### Hypothetical Statement - 1"
      ],
      "metadata": {
        "id": "8yEUt7NnHlrM"
      }
    },
    {
      "cell_type": "markdown",
      "source": [
        "#### 1. State Your research hypothesis as a null hypothesis and alternate hypothesis."
      ],
      "metadata": {
        "id": "tEA2Xm5dHt1r"
      }
    },
    {
      "cell_type": "markdown",
      "source": [
        "Answer Here."
      ],
      "metadata": {
        "id": "HI9ZP0laH0D-"
      }
    },
    {
      "cell_type": "markdown",
      "source": [
        "#### 2. Perform an appropriate statistical test."
      ],
      "metadata": {
        "id": "I79__PHVH19G"
      }
    },
    {
      "cell_type": "code",
      "source": [
        "# Perform Statistical Test to obtain P-Value"
      ],
      "metadata": {
        "id": "oZrfquKtyian"
      },
      "execution_count": null,
      "outputs": []
    },
    {
      "cell_type": "markdown",
      "source": [
        "##### Which statistical test have you done to obtain P-Value?"
      ],
      "metadata": {
        "id": "Ou-I18pAyIpj"
      }
    },
    {
      "cell_type": "markdown",
      "source": [
        "Answer Here."
      ],
      "metadata": {
        "id": "s2U0kk00ygSB"
      }
    },
    {
      "cell_type": "markdown",
      "source": [
        "##### Why did you choose the specific statistical test?"
      ],
      "metadata": {
        "id": "fF3858GYyt-u"
      }
    },
    {
      "cell_type": "markdown",
      "source": [
        "Answer Here."
      ],
      "metadata": {
        "id": "HO4K0gP5y3B4"
      }
    },
    {
      "cell_type": "markdown",
      "source": [
        "### Hypothetical Statement - 2"
      ],
      "metadata": {
        "id": "4_0_7-oCpUZd"
      }
    },
    {
      "cell_type": "markdown",
      "source": [
        "#### 1. State Your research hypothesis as a null hypothesis and alternate hypothesis."
      ],
      "metadata": {
        "id": "hwyV_J3ipUZe"
      }
    },
    {
      "cell_type": "markdown",
      "source": [
        "Answer Here."
      ],
      "metadata": {
        "id": "FnpLGJ-4pUZe"
      }
    },
    {
      "cell_type": "markdown",
      "source": [
        "#### 2. Perform an appropriate statistical test."
      ],
      "metadata": {
        "id": "3yB-zSqbpUZe"
      }
    },
    {
      "cell_type": "code",
      "source": [
        "# Perform Statistical Test to obtain P-Value"
      ],
      "metadata": {
        "id": "sWxdNTXNpUZe"
      },
      "execution_count": null,
      "outputs": []
    },
    {
      "cell_type": "markdown",
      "source": [
        "##### Which statistical test have you done to obtain P-Value?"
      ],
      "metadata": {
        "id": "dEUvejAfpUZe"
      }
    },
    {
      "cell_type": "markdown",
      "source": [
        "Answer Here."
      ],
      "metadata": {
        "id": "oLDrPz7HpUZf"
      }
    },
    {
      "cell_type": "markdown",
      "source": [
        "##### Why did you choose the specific statistical test?"
      ],
      "metadata": {
        "id": "Fd15vwWVpUZf"
      }
    },
    {
      "cell_type": "markdown",
      "source": [
        "Answer Here."
      ],
      "metadata": {
        "id": "4xOGYyiBpUZf"
      }
    },
    {
      "cell_type": "markdown",
      "source": [
        "### Hypothetical Statement - 3"
      ],
      "metadata": {
        "id": "bn_IUdTipZyH"
      }
    },
    {
      "cell_type": "markdown",
      "source": [
        "#### 1. State Your research hypothesis as a null hypothesis and alternate hypothesis."
      ],
      "metadata": {
        "id": "49K5P_iCpZyH"
      }
    },
    {
      "cell_type": "markdown",
      "source": [
        "Answer Here."
      ],
      "metadata": {
        "id": "7gWI5rT9pZyH"
      }
    },
    {
      "cell_type": "markdown",
      "source": [
        "#### 2. Perform an appropriate statistical test."
      ],
      "metadata": {
        "id": "Nff-vKELpZyI"
      }
    },
    {
      "cell_type": "code",
      "source": [
        "# Perform Statistical Test to obtain P-Value"
      ],
      "metadata": {
        "id": "s6AnJQjtpZyI"
      },
      "execution_count": null,
      "outputs": []
    },
    {
      "cell_type": "markdown",
      "source": [
        "##### Which statistical test have you done to obtain P-Value?"
      ],
      "metadata": {
        "id": "kLW572S8pZyI"
      }
    },
    {
      "cell_type": "markdown",
      "source": [
        "Answer Here."
      ],
      "metadata": {
        "id": "ytWJ8v15pZyI"
      }
    },
    {
      "cell_type": "markdown",
      "source": [
        "##### Why did you choose the specific statistical test?"
      ],
      "metadata": {
        "id": "dWbDXHzopZyI"
      }
    },
    {
      "cell_type": "markdown",
      "source": [
        "Answer Here."
      ],
      "metadata": {
        "id": "M99G98V6pZyI"
      }
    },
    {
      "cell_type": "markdown",
      "source": [
        "## ***6. Feature Engineering & Data Pre-processing***"
      ],
      "metadata": {
        "id": "yLjJCtPM0KBk"
      }
    },
    {
      "cell_type": "code",
      "source": [
        "df1 = df.copy()"
      ],
      "metadata": {
        "id": "G-ALNqCv5VNG"
      },
      "execution_count": null,
      "outputs": []
    },
    {
      "cell_type": "markdown",
      "source": [
        "### **1. Handling Missing Values**"
      ],
      "metadata": {
        "id": "xiyOF9F70UgQ"
      }
    },
    {
      "cell_type": "code",
      "source": [
        "# Handling Missing Values & Missing Value Imputation\n",
        "# Education\n",
        "df1['education'] = df1['education'].fillna(df1['education'].mode()[0])\n",
        "# Cigsperday\n",
        "df1['cigsPerDay'] = df1['cigsPerDay'].fillna(df1['cigsPerDay'].median())\n",
        "# BPMeds\n",
        "df1['BPMeds'] = df1['BPMeds'].fillna(df1['BPMeds'].mode()[0])\n",
        "# totChol\n",
        "df1['totChol'] = df1['totChol'].fillna(df1['totChol'].median())\n",
        "# BMI\n",
        "df1['BMI'] = df1['BMI'].fillna(df1['BMI'].mode()[0])\n",
        "# heartrate\n",
        "df1['heartRate'] = df1['heartRate'].fillna(df1['heartRate'].median())\n",
        "# glucose\n",
        "df1['glucose'] = df1['glucose'].fillna(df1['glucose'].median())"
      ],
      "metadata": {
        "id": "iRsAHk1K0fpS"
      },
      "execution_count": null,
      "outputs": []
    },
    {
      "cell_type": "markdown",
      "source": [
        "#### What all missing value imputation techniques have you used and why did you use those techniques?"
      ],
      "metadata": {
        "id": "7wuGOrhz0itI"
      }
    },
    {
      "cell_type": "markdown",
      "source": [
        "By observing the visulaizations plotted above, we concluded that cigsperday, totchol, and heartrate are positively skewed. Therefore we impute the missing values with median. For categorical variables, we impute with mode value."
      ],
      "metadata": {
        "id": "QCtwlKiY1l5j"
      }
    },
    {
      "cell_type": "code",
      "source": [
        "df1.isnull().sum()"
      ],
      "metadata": {
        "id": "cvo5jiuH36WZ"
      },
      "execution_count": null,
      "outputs": []
    },
    {
      "cell_type": "markdown",
      "source": [
        "### **2. Multicollinearity**"
      ],
      "metadata": {
        "id": "Jpy-OA_t2wOi"
      }
    },
    {
      "cell_type": "code",
      "source": [
        "# Multicollinearity\n",
        "df1.drop(['sysBP', 'diaBP'], axis=1, inplace=True)\n",
        "Numerical_variables = df1.describe().columns\n",
        "Numerical_variables"
      ],
      "metadata": {
        "id": "fzmYQ5yK2wOq"
      },
      "execution_count": null,
      "outputs": []
    },
    {
      "cell_type": "code",
      "source": [
        "for i in Numerical_variables:\n",
        "\n",
        "  #figure size\n",
        "  fig = plt.figure(figsize=(9, 6))\n",
        "\n",
        "  #gca -> get current axis\n",
        "  ax = fig.gca()\n",
        "\n",
        "  #accessing each numeric variable\n",
        "  feature = df1[i]\n",
        "\n",
        "  #plotting histogram\n",
        "  feature.hist(bins = 50, ax = ax) # bins are intervals\n",
        "\n",
        "  #Mean of the variable is plotted\n",
        "  ax.axvline(feature.mean(), color='magenta', linestyle='dashed', linewidth=2)  #axvline is for vertical line\n",
        "\n",
        "  #Median of the variable is plotted\n",
        "  ax.axvline(feature.median(), color='cyan', linestyle='dashed', linewidth=2)\n",
        "\n",
        "  #displays the title\n",
        "  ax.set_title(i)\n",
        "plt.show()"
      ],
      "metadata": {
        "id": "90EsozDN4T7T"
      },
      "execution_count": null,
      "outputs": []
    },
    {
      "cell_type": "code",
      "source": [
        "Numerical_variables = list(Numerical_variables)\n",
        "Numerical_variables.remove('TenYearCHD')"
      ],
      "metadata": {
        "id": "Dtw_PoDq4zBy"
      },
      "execution_count": null,
      "outputs": []
    },
    {
      "cell_type": "code",
      "source": [
        "#plotting price vs other independent variables\n",
        "\n",
        "for i in Numerical_variables:\n",
        "\n",
        "    #figure size\n",
        "    fig = plt.figure(figsize=(9, 6))\n",
        "\n",
        "    #gca -> get current axis\n",
        "    ax = fig.gca()\n",
        "\n",
        "    #assigning numerical variable\n",
        "    feature = df1[i]\n",
        "\n",
        "    #assigning price to a variable\n",
        "    label = df1['TenYearCHD']\n",
        "\n",
        "    #calculating correlation\n",
        "    correlation = feature.corr(label)\n",
        "\n",
        "    #plotting scatter plot\n",
        "    sns.barplot(x=label, y=feature)\n",
        "    plt.xlabel('Ten Year CHD')\n",
        "    plt.ylabel(i)\n",
        "    ax.set_title('Ten Year CHD vs ' + i + '- correlation: ' + str(correlation))\n",
        "\n",
        "\n",
        "plt.show()"
      ],
      "metadata": {
        "id": "FR6XeU605Jja"
      },
      "execution_count": null,
      "outputs": []
    },
    {
      "cell_type": "code",
      "source": [
        "df1[df1.describe().columns[1:]].corr()['TenYearCHD'][:]"
      ],
      "metadata": {
        "id": "PfHPtRED_qSH"
      },
      "execution_count": null,
      "outputs": []
    },
    {
      "cell_type": "code",
      "source": [
        "fig = plt.figure(figsize=(15, 8))\n",
        "correlation = df1.corr()\n",
        "sns.heatmap(correlation, annot=True, cmap='coolwarm')"
      ],
      "metadata": {
        "id": "iJHntLzJ7g2g"
      },
      "execution_count": null,
      "outputs": []
    },
    {
      "cell_type": "markdown",
      "source": [
        "From the above heatmap, we observe that prevalent Hyp and pulse pressure are strongly correlated. Similarly, diabetes and glucose are correlated. Therefore we drop them from the dataset."
      ],
      "metadata": {
        "id": "szWeQImGAO8Y"
      }
    },
    {
      "cell_type": "code",
      "source": [
        "df1.drop(['prevalentHyp', 'diabetes'], axis=1, inplace = True)"
      ],
      "metadata": {
        "id": "An3Uo3ZD8WAF"
      },
      "execution_count": null,
      "outputs": []
    },
    {
      "cell_type": "code",
      "source": [
        "fig = plt.figure(figsize=(15, 8))\n",
        "correlation = df1.corr()\n",
        "sns.heatmap(correlation, annot=True, cmap='coolwarm')"
      ],
      "metadata": {
        "id": "0dnJ4IFS8pU2"
      },
      "execution_count": null,
      "outputs": []
    },
    {
      "cell_type": "markdown",
      "source": [
        "Hence, we have removed strongly correlated variables from the dataset."
      ],
      "metadata": {
        "id": "973ZkfDY875C"
      }
    },
    {
      "cell_type": "code",
      "source": [
        "df1.shape"
      ],
      "metadata": {
        "id": "wlGTBFs12e1N"
      },
      "execution_count": null,
      "outputs": []
    },
    {
      "cell_type": "markdown",
      "source": [
        "### **3. Handling Outliers**"
      ],
      "metadata": {
        "id": "id1riN9m0vUs"
      }
    },
    {
      "cell_type": "code",
      "source": [
        "df2 = df1.copy()"
      ],
      "metadata": {
        "id": "yz0wwqbpJLUD"
      },
      "execution_count": null,
      "outputs": []
    },
    {
      "cell_type": "code",
      "source": [
        "# Handling Outliers & Outlier treatments\n",
        "Numerical_features = ['age', 'cigsPerDay', 'totChol', 'BMI', 'heartRate', 'glucose','pulse_pressure']\n",
        "for i in Numerical_features:\n",
        "  fig = plt.figure(figsize=(9, 6))\n",
        "\n",
        "  #gca -> get current axis\n",
        "  ax = fig.gca()\n",
        "\n",
        "  #plotting box plot\n",
        "  df2.boxplot(column = i, ax = ax)\n"
      ],
      "metadata": {
        "id": "M6w2CzZf04JK"
      },
      "execution_count": null,
      "outputs": []
    },
    {
      "cell_type": "markdown",
      "source": [
        "From the above boxplots, we notice that there are outliers in cigsPerDay, totChol, BMI, heartRate, glucose, and pulse_pressure variables. Hence we treat them using quantile method. Outliers are nothing but those points which doesn't follow the trend."
      ],
      "metadata": {
        "id": "9tNMryROh0-H"
      }
    },
    {
      "cell_type": "markdown",
      "source": [
        "##### What all outlier treatment techniques have you used and why did you use those techniques?"
      ],
      "metadata": {
        "id": "578E2V7j08f6"
      }
    },
    {
      "cell_type": "markdown",
      "source": [
        "Usually here we use IQR (Inter quartile range) quantile method to handle outliers. The problem to use this method is that we have very small dataset where removing outliers using IRQ will miss out the important data that we need. Hence, we try to apply transformation on each variable that have outliers."
      ],
      "metadata": {
        "id": "5l63Ous_Cqi6"
      }
    },
    {
      "cell_type": "code",
      "source": [
        "outliers = ['cigsPerDay', 'totChol', 'BMI', 'heartRate', 'glucose','pulse_pressure']"
      ],
      "metadata": {
        "id": "ocKBNo5RWTwL"
      },
      "execution_count": null,
      "outputs": []
    },
    {
      "cell_type": "code",
      "source": [
        "for i in outliers:\n",
        "\n",
        "  Q1 = df2[i].quantile(0.25)\n",
        "  Q2 = df2[i].quantile(0.5)  # median value\n",
        "  Q3 = df2[i].quantile(0.75)\n",
        "\n",
        "  IQR1 = Q3 - Q1\n",
        "\n",
        "  max_value = Q3 + (1.5*IQR1)\n",
        "  min_value= Q1 - (1.5*IQR1)\n",
        "\n",
        "  df2.loc[df2[i] > max_value, i] = Q2\n",
        "  df2.loc[df2[i] < min_value, i] = Q2\n"
      ],
      "metadata": {
        "id": "pP5l9ufYTwvO"
      },
      "execution_count": null,
      "outputs": []
    },
    {
      "cell_type": "code",
      "source": [
        "for i in outliers:\n",
        "  fig = plt.figure(figsize=(9, 6))\n",
        "\n",
        "  #gca -> get current axis\n",
        "  ax = fig.gca()\n",
        "\n",
        "  #plotting box plot\n",
        "  df2.boxplot(column = i, ax = ax)\n",
        "  plt.show()\n"
      ],
      "metadata": {
        "id": "_2HfglcpYQBf"
      },
      "execution_count": null,
      "outputs": []
    },
    {
      "cell_type": "markdown",
      "source": [
        "### **3. Categorical Encoding**"
      ],
      "metadata": {
        "id": "89xtkJwZ18nB"
      }
    },
    {
      "cell_type": "code",
      "source": [
        "df3 = df2.copy()"
      ],
      "metadata": {
        "id": "BFyEqRJTPKj7"
      },
      "execution_count": null,
      "outputs": []
    },
    {
      "cell_type": "code",
      "source": [
        "df3['cigsPerDay'].value_counts()"
      ],
      "metadata": {
        "id": "ne0ydze5sZ_K"
      },
      "execution_count": null,
      "outputs": []
    },
    {
      "cell_type": "code",
      "source": [
        "def cigs_per_day(a):\n",
        "  if a == 0.0:\n",
        "    return 'No consumption'\n",
        "  elif a > 0.0 and a <= 20.0:\n",
        "    return 'Average consumption'\n",
        "  else:\n",
        "    return 'High consumption'\n",
        "df3['cigsPerDay'] = df3['cigsPerDay'].apply(cigs_per_day)"
      ],
      "metadata": {
        "id": "m6KBJ1xVzpAl"
      },
      "execution_count": null,
      "outputs": []
    },
    {
      "cell_type": "code",
      "source": [
        "fig = plt.figure(figsize=(10, 5))\n",
        "correlation = df3.corr()\n",
        "sns.heatmap(correlation, annot=True, cmap='coolwarm')"
      ],
      "metadata": {
        "id": "R0KxXgAR2XNq"
      },
      "execution_count": null,
      "outputs": []
    },
    {
      "cell_type": "code",
      "source": [
        "# Encode your categorical columns\n",
        "df3 = pd.get_dummies(df3, columns = ['sex', 'education', 'is_smoking', 'cigsPerDay'] , prefix = ['sex', 'education', 'smoking', 'cigsPerDay'])"
      ],
      "metadata": {
        "id": "21JmIYMG2hEo"
      },
      "execution_count": null,
      "outputs": []
    },
    {
      "cell_type": "code",
      "source": [
        "df3.head()"
      ],
      "metadata": {
        "id": "8iiUNDbfG9iU"
      },
      "execution_count": null,
      "outputs": []
    },
    {
      "cell_type": "markdown",
      "source": [
        "#### What all categorical encoding techniques have you used & why did you use those techniques?"
      ],
      "metadata": {
        "id": "67NQN5KX2AMe"
      }
    },
    {
      "cell_type": "markdown",
      "source": [
        "Here we converted sex, education, is_smoking, and cigsperday variables to numerical variables using one hot encoding as there are multiple variables to be converted, instead of manually assigning integers."
      ],
      "metadata": {
        "id": "UDaue5h32n_G"
      }
    },
    {
      "cell_type": "code",
      "source": [
        "df3.info()"
      ],
      "metadata": {
        "id": "Dsm1QWO0RBpL"
      },
      "execution_count": null,
      "outputs": []
    },
    {
      "cell_type": "code",
      "source": [
        "df3.columns"
      ],
      "metadata": {
        "id": "9CNl2ZRpRHzg"
      },
      "execution_count": null,
      "outputs": []
    },
    {
      "cell_type": "markdown",
      "source": [
        "### **4. Feature Manipulation & Selection**"
      ],
      "metadata": {
        "id": "-oLEiFgy-5Pf"
      }
    },
    {
      "cell_type": "markdown",
      "source": [
        "#### 1. Feature Manipulation"
      ],
      "metadata": {
        "id": "C74aWNz2AliB"
      }
    },
    {
      "cell_type": "code",
      "source": [
        "# Manipulate Features to minimize feature correlation and create new features\n",
        "# pulse pressure variable is created in the above cells using sysBP and diaBP"
      ],
      "metadata": {
        "id": "h1qC4yhBApWC"
      },
      "execution_count": null,
      "outputs": []
    },
    {
      "cell_type": "markdown",
      "source": [
        "#### 2. Feature Selection"
      ],
      "metadata": {
        "id": "2DejudWSA-a0"
      }
    },
    {
      "cell_type": "code",
      "source": [
        "fig = plt.figure(figsize=(15, 8))\n",
        "correlation = df3.corr()\n",
        "sns.heatmap(correlation, annot=True, cmap='coolwarm')"
      ],
      "metadata": {
        "id": "IViTJ2GGQLfU"
      },
      "execution_count": null,
      "outputs": []
    },
    {
      "cell_type": "code",
      "source": [
        "df4 = df3.copy()\n",
        "df4.drop(['sex_M', 'smoking_NO', 'smoking_YES', 'cigsPerDay_No consumption'], axis=1, inplace=True)\n",
        "fig = plt.figure(figsize=(15, 8))\n",
        "correlation = df4.corr()\n",
        "sns.heatmap(correlation, annot=True, cmap='coolwarm')"
      ],
      "metadata": {
        "id": "yNygQXLnUpgi"
      },
      "execution_count": null,
      "outputs": []
    },
    {
      "cell_type": "code",
      "source": [
        "df4.columns"
      ],
      "metadata": {
        "id": "iu9DzrKPVTwX"
      },
      "execution_count": null,
      "outputs": []
    },
    {
      "cell_type": "code",
      "source": [
        "# Select your features wisely to avoid overfitting\n",
        "features = ['age', 'BPMeds', 'prevalentStroke', 'totChol', 'BMI', 'heartRate',\n",
        "       'glucose', 'pulse_pressure', 'sex_F', 'education_1.0',\n",
        "       'education_2.0', 'education_3.0', 'education_4.0',\n",
        "       'cigsPerDay_Average consumption', 'cigsPerDay_High consumption']"
      ],
      "metadata": {
        "id": "YLhe8UmaBCEE"
      },
      "execution_count": null,
      "outputs": []
    },
    {
      "cell_type": "markdown",
      "source": [
        "##### What all feature selection methods have you used  and why?"
      ],
      "metadata": {
        "id": "pEMng2IbBLp7"
      }
    },
    {
      "cell_type": "markdown",
      "source": [
        "From the above heatmaps, we see that (sex_F, sex_M), (smoking_YES, smoking_NO), (cigsperday_Average consumption, smoking_YES), and (cigserday_No consumption, smoking_NO) are strongly correlated.\n",
        "* Therefore, we drop sex_F, smoking_NO, smoking_YES, and cigsperday_No consumption.\n",
        "* After dropping we plotted heatmap again in which we can see that there is no strong correlation among independent variables."
      ],
      "metadata": {
        "id": "DBhNTo6qS5Ky"
      }
    },
    {
      "cell_type": "markdown",
      "source": [
        "##### Which all features you found important and why?"
      ],
      "metadata": {
        "id": "rAdphbQ9Bhjc"
      }
    },
    {
      "cell_type": "markdown",
      "source": [
        "From the heatmap we considered the following variables for model building\n",
        "* age, BPMeds, prevalentStroke, totChol, BMI, heartRate, glucose, pulse_pressure, sex_F, education_1.0, education_2.0, education_3.0, education_4.0, cigsPerDay_Average consumption, cigsPerDay_High consumption.\n",
        "* These variables helps in predicting risk to CHD as they are correlated to TenYearCHD variable which is above 0.001."
      ],
      "metadata": {
        "id": "fGgaEstsBnaf"
      }
    },
    {
      "cell_type": "markdown",
      "source": [
        "### 5. Data Transformation"
      ],
      "metadata": {
        "id": "TNVZ9zx19K6k"
      }
    },
    {
      "cell_type": "markdown",
      "source": [
        "#### Do you think that your data needs to be transformed? If yes, which transformation have you used. Explain Why?"
      ],
      "metadata": {
        "id": "nqoHp30x9hH9"
      }
    },
    {
      "cell_type": "code",
      "source": [
        "df4.head()"
      ],
      "metadata": {
        "id": "VRaG8iLQY_kV"
      },
      "execution_count": null,
      "outputs": []
    },
    {
      "cell_type": "code",
      "source": [
        "df5 = df4.copy()"
      ],
      "metadata": {
        "id": "ULz1ypA1wie6"
      },
      "execution_count": null,
      "outputs": []
    },
    {
      "cell_type": "code",
      "source": [
        "df5['age'] = np.log10(df5['age']+1)\n",
        "df5['totChol'] = np.log10(df5['totChol']+1)\n",
        "df5['BMI'] = np.log10(df5['BMI']+1)\n",
        "df5['heartRate'] = np.log10(df5['heartRate']+1)\n",
        "df5['glucose'] = np.log10(df5['glucose']+1)\n",
        "df5['pulse_pressure'] = np.log10(df5['pulse_pressure']+1)"
      ],
      "metadata": {
        "id": "rxUQWI9iqNFW"
      },
      "execution_count": null,
      "outputs": []
    },
    {
      "cell_type": "code",
      "source": [
        "import scipy.stats as stats\n",
        "import pylab\n",
        "\n",
        "b = ['age', 'totChol', 'BMI', 'heartRate', 'glucose', 'pulse_pressure']\n",
        "for i in b:\n",
        "  #sns.displot(df_new[i], kde = True)\n",
        "  #stats.probplot(df_new[i],dist='norm',plot=pylab)\n",
        "  plt.figure(figsize=(10,6))\n",
        "  plt.subplot(1,2,1)\n",
        "  sns.distplot(df5[i])\n",
        "  plt.subplot(1,2,2)\n",
        "  stats.probplot(df5[i],dist='norm',plot=pylab)\n",
        "  plt.show()"
      ],
      "metadata": {
        "id": "fx3U_DZyrbuS"
      },
      "execution_count": null,
      "outputs": []
    },
    {
      "cell_type": "code",
      "source": [],
      "metadata": {
        "id": "Q1jSBpS5sGSG"
      },
      "execution_count": null,
      "outputs": []
    },
    {
      "cell_type": "code",
      "source": [
        "# Transform Your data"
      ],
      "metadata": {
        "id": "I6quWQ1T9rtH"
      },
      "execution_count": null,
      "outputs": []
    },
    {
      "cell_type": "markdown",
      "source": [
        "### 6. Data Scaling"
      ],
      "metadata": {
        "id": "rMDnDkt2B6du"
      }
    },
    {
      "cell_type": "code",
      "source": [
        "# Scaling your data\n"
      ],
      "metadata": {
        "id": "dL9LWpySC6x_"
      },
      "execution_count": null,
      "outputs": []
    },
    {
      "cell_type": "markdown",
      "source": [
        "##### Which method have you used to scale you data and why?"
      ],
      "metadata": {
        "id": "yiiVWRdJDDil"
      }
    },
    {
      "cell_type": "markdown",
      "source": [
        "### 7. Dimesionality Reduction"
      ],
      "metadata": {
        "id": "1UUpS68QDMuG"
      }
    },
    {
      "cell_type": "markdown",
      "source": [
        "##### Do you think that dimensionality reduction is needed? Explain Why?"
      ],
      "metadata": {
        "id": "kexQrXU-DjzY"
      }
    },
    {
      "cell_type": "markdown",
      "source": [
        "Answer Here."
      ],
      "metadata": {
        "id": "GGRlBsSGDtTQ"
      }
    },
    {
      "cell_type": "code",
      "source": [
        "# DImensionality Reduction (If needed)"
      ],
      "metadata": {
        "id": "kQfvxBBHDvCa"
      },
      "execution_count": null,
      "outputs": []
    },
    {
      "cell_type": "markdown",
      "source": [
        "##### Which dimensionality reduction technique have you used and why? (If dimensionality reduction done on dataset.)"
      ],
      "metadata": {
        "id": "T5CmagL3EC8N"
      }
    },
    {
      "cell_type": "markdown",
      "source": [
        "Answer Here."
      ],
      "metadata": {
        "id": "ZKr75IDuEM7t"
      }
    },
    {
      "cell_type": "markdown",
      "source": [
        "### 8. Data Splitting"
      ],
      "metadata": {
        "id": "BhH2vgX9EjGr"
      }
    },
    {
      "cell_type": "code",
      "source": [
        "# Split your data to train and test. Choose Splitting ratio wisely."
      ],
      "metadata": {
        "id": "0CTyd2UwEyNM"
      },
      "execution_count": null,
      "outputs": []
    },
    {
      "cell_type": "markdown",
      "source": [
        "##### What data splitting ratio have you used and why?"
      ],
      "metadata": {
        "id": "qjKvONjwE8ra"
      }
    },
    {
      "cell_type": "markdown",
      "source": [
        "Answer Here."
      ],
      "metadata": {
        "id": "Y2lJ8cobFDb_"
      }
    },
    {
      "cell_type": "markdown",
      "source": [
        "### 9. Handling Imbalanced Dataset"
      ],
      "metadata": {
        "id": "P1XJ9OREExlT"
      }
    },
    {
      "cell_type": "markdown",
      "source": [
        "##### Do you think the dataset is imbalanced? Explain Why."
      ],
      "metadata": {
        "id": "VFOzZv6IFROw"
      }
    },
    {
      "cell_type": "markdown",
      "source": [
        "Answer Here."
      ],
      "metadata": {
        "id": "GeKDIv7pFgcC"
      }
    },
    {
      "cell_type": "code",
      "source": [
        "# Handling Imbalanced Dataset (If needed)"
      ],
      "metadata": {
        "id": "nQsRhhZLFiDs"
      },
      "execution_count": null,
      "outputs": []
    },
    {
      "cell_type": "markdown",
      "source": [
        "##### What technique did you use to handle the imbalance dataset and why? (If needed to be balanced)"
      ],
      "metadata": {
        "id": "TIqpNgepFxVj"
      }
    },
    {
      "cell_type": "markdown",
      "source": [
        "Answer Here."
      ],
      "metadata": {
        "id": "qbet1HwdGDTz"
      }
    },
    {
      "cell_type": "markdown",
      "source": [
        "## ***7. ML Model Implementation***"
      ],
      "metadata": {
        "id": "VfCC591jGiD4"
      }
    },
    {
      "cell_type": "markdown",
      "source": [
        "### ML Model - 1"
      ],
      "metadata": {
        "id": "OB4l2ZhMeS1U"
      }
    },
    {
      "cell_type": "code",
      "source": [
        "# ML Model - 1 Implementation\n",
        "\n",
        "# Fit the Algorithm\n",
        "\n",
        "# Predict on the model"
      ],
      "metadata": {
        "id": "7ebyywQieS1U"
      },
      "execution_count": null,
      "outputs": []
    },
    {
      "cell_type": "markdown",
      "source": [
        "#### 1. Explain the ML Model used and it's performance using Evaluation metric Score Chart."
      ],
      "metadata": {
        "id": "ArJBuiUVfxKd"
      }
    },
    {
      "cell_type": "code",
      "source": [
        "# Visualizing evaluation Metric Score chart"
      ],
      "metadata": {
        "id": "rqD5ZohzfxKe"
      },
      "execution_count": null,
      "outputs": []
    },
    {
      "cell_type": "markdown",
      "source": [
        "#### 2. Cross- Validation & Hyperparameter Tuning"
      ],
      "metadata": {
        "id": "4qY1EAkEfxKe"
      }
    },
    {
      "cell_type": "code",
      "source": [
        "# ML Model - 1 Implementation with hyperparameter optimization techniques (i.e., GridSearch CV, RandomSearch CV, Bayesian Optimization etc.)\n",
        "\n",
        "# Fit the Algorithm\n",
        "\n",
        "# Predict on the model"
      ],
      "metadata": {
        "id": "Dy61ujd6fxKe"
      },
      "execution_count": null,
      "outputs": []
    },
    {
      "cell_type": "markdown",
      "source": [
        "##### Which hyperparameter optimization technique have you used and why?"
      ],
      "metadata": {
        "id": "PiV4Ypx8fxKe"
      }
    },
    {
      "cell_type": "markdown",
      "source": [
        "Answer Here."
      ],
      "metadata": {
        "id": "negyGRa7fxKf"
      }
    },
    {
      "cell_type": "markdown",
      "source": [
        "##### Have you seen any improvement? Note down the improvement with updates Evaluation metric Score Chart."
      ],
      "metadata": {
        "id": "TfvqoZmBfxKf"
      }
    },
    {
      "cell_type": "markdown",
      "source": [
        "Answer Here."
      ],
      "metadata": {
        "id": "OaLui8CcfxKf"
      }
    },
    {
      "cell_type": "markdown",
      "source": [
        "### ML Model - 2"
      ],
      "metadata": {
        "id": "dJ2tPlVmpsJ0"
      }
    },
    {
      "cell_type": "markdown",
      "source": [
        "#### 1. Explain the ML Model used and it's performance using Evaluation metric Score Chart."
      ],
      "metadata": {
        "id": "JWYfwnehpsJ1"
      }
    },
    {
      "cell_type": "code",
      "source": [
        "# Visualizing evaluation Metric Score chart"
      ],
      "metadata": {
        "id": "yEl-hgQWpsJ1"
      },
      "execution_count": null,
      "outputs": []
    },
    {
      "cell_type": "markdown",
      "source": [
        "#### 2. Cross- Validation & Hyperparameter Tuning"
      ],
      "metadata": {
        "id": "-jK_YjpMpsJ2"
      }
    },
    {
      "cell_type": "code",
      "source": [
        "# ML Model - 1 Implementation with hyperparameter optimization techniques (i.e., GridSearch CV, RandomSearch CV, Bayesian Optimization etc.)\n",
        "\n",
        "# Fit the Algorithm\n",
        "\n",
        "# Predict on the model"
      ],
      "metadata": {
        "id": "Dn0EOfS6psJ2"
      },
      "execution_count": null,
      "outputs": []
    },
    {
      "cell_type": "markdown",
      "source": [
        "##### Which hyperparameter optimization technique have you used and why?"
      ],
      "metadata": {
        "id": "HAih1iBOpsJ2"
      }
    },
    {
      "cell_type": "markdown",
      "source": [
        "Answer Here."
      ],
      "metadata": {
        "id": "9kBgjYcdpsJ2"
      }
    },
    {
      "cell_type": "markdown",
      "source": [
        "##### Have you seen any improvement? Note down the improvement with updates Evaluation metric Score Chart."
      ],
      "metadata": {
        "id": "zVGeBEFhpsJ2"
      }
    },
    {
      "cell_type": "markdown",
      "source": [
        "Answer Here."
      ],
      "metadata": {
        "id": "74yRdG6UpsJ3"
      }
    },
    {
      "cell_type": "markdown",
      "source": [
        "#### 3. Explain each evaluation metric's indication towards business and the business impact pf the ML model used."
      ],
      "metadata": {
        "id": "bmKjuQ-FpsJ3"
      }
    },
    {
      "cell_type": "markdown",
      "source": [
        "Answer Here."
      ],
      "metadata": {
        "id": "BDKtOrBQpsJ3"
      }
    },
    {
      "cell_type": "markdown",
      "source": [
        "### ML Model - 3"
      ],
      "metadata": {
        "id": "Fze-IPXLpx6K"
      }
    },
    {
      "cell_type": "code",
      "source": [
        "# ML Model - 3 Implementation\n",
        "\n",
        "# Fit the Algorithm\n",
        "\n",
        "# Predict on the model"
      ],
      "metadata": {
        "id": "FFrSXAtrpx6M"
      },
      "execution_count": null,
      "outputs": []
    },
    {
      "cell_type": "markdown",
      "source": [
        "#### 1. Explain the ML Model used and it's performance using Evaluation metric Score Chart."
      ],
      "metadata": {
        "id": "7AN1z2sKpx6M"
      }
    },
    {
      "cell_type": "code",
      "source": [
        "# Visualizing evaluation Metric Score chart"
      ],
      "metadata": {
        "id": "xIY4lxxGpx6M"
      },
      "execution_count": null,
      "outputs": []
    },
    {
      "cell_type": "markdown",
      "source": [
        "#### 2. Cross- Validation & Hyperparameter Tuning"
      ],
      "metadata": {
        "id": "9PIHJqyupx6M"
      }
    },
    {
      "cell_type": "code",
      "source": [
        "# ML Model - 3 Implementation with hyperparameter optimization techniques (i.e., GridSearch CV, RandomSearch CV, Bayesian Optimization etc.)\n",
        "\n",
        "# Fit the Algorithm\n",
        "\n",
        "# Predict on the model"
      ],
      "metadata": {
        "id": "eSVXuaSKpx6M"
      },
      "execution_count": null,
      "outputs": []
    },
    {
      "cell_type": "markdown",
      "source": [
        "##### Which hyperparameter optimization technique have you used and why?"
      ],
      "metadata": {
        "id": "_-qAgymDpx6N"
      }
    },
    {
      "cell_type": "markdown",
      "source": [
        "Answer Here."
      ],
      "metadata": {
        "id": "lQMffxkwpx6N"
      }
    },
    {
      "cell_type": "markdown",
      "source": [
        "##### Have you seen any improvement? Note down the improvement with updates Evaluation metric Score Chart."
      ],
      "metadata": {
        "id": "Z-hykwinpx6N"
      }
    },
    {
      "cell_type": "markdown",
      "source": [
        "Answer Here."
      ],
      "metadata": {
        "id": "MzVzZC6opx6N"
      }
    },
    {
      "cell_type": "markdown",
      "source": [
        "### 1. Which Evaluation metrics did you consider for a positive business impact and why?"
      ],
      "metadata": {
        "id": "h_CCil-SKHpo"
      }
    },
    {
      "cell_type": "markdown",
      "source": [
        "Answer Here."
      ],
      "metadata": {
        "id": "jHVz9hHDKFms"
      }
    },
    {
      "cell_type": "markdown",
      "source": [
        "### 2. Which ML model did you choose from the above created models as your final prediction model and why?"
      ],
      "metadata": {
        "id": "cBFFvTBNJzUa"
      }
    },
    {
      "cell_type": "markdown",
      "source": [
        "Answer Here."
      ],
      "metadata": {
        "id": "6ksF5Q1LKTVm"
      }
    },
    {
      "cell_type": "markdown",
      "source": [
        "### 3. Explain the model which you have used and the feature importance using any model explainability tool?"
      ],
      "metadata": {
        "id": "HvGl1hHyA_VK"
      }
    },
    {
      "cell_type": "markdown",
      "source": [
        "Answer Here."
      ],
      "metadata": {
        "id": "YnvVTiIxBL-C"
      }
    },
    {
      "cell_type": "markdown",
      "source": [
        "## ***8.*** ***Future Work (Optional)***"
      ],
      "metadata": {
        "id": "EyNgTHvd2WFk"
      }
    },
    {
      "cell_type": "markdown",
      "source": [
        "### 1. Save the best performing ml model in a pickle file or joblib file format for deployment process.\n"
      ],
      "metadata": {
        "id": "KH5McJBi2d8v"
      }
    },
    {
      "cell_type": "code",
      "source": [
        "# Save the File"
      ],
      "metadata": {
        "id": "bQIANRl32f4J"
      },
      "execution_count": null,
      "outputs": []
    },
    {
      "cell_type": "markdown",
      "source": [
        "### 2. Again Load the saved model file and try to predict unseen data for a sanity check.\n"
      ],
      "metadata": {
        "id": "iW_Lq9qf2h6X"
      }
    },
    {
      "cell_type": "code",
      "source": [
        "# Load the File and predict unseen data."
      ],
      "metadata": {
        "id": "oEXk9ydD2nVC"
      },
      "execution_count": null,
      "outputs": []
    },
    {
      "cell_type": "markdown",
      "source": [
        "### ***Congrats! Your model is successfully created and ready for deployment on a live server for a real user interaction !!!***"
      ],
      "metadata": {
        "id": "-Kee-DAl2viO"
      }
    },
    {
      "cell_type": "markdown",
      "source": [
        "# **Conclusion**"
      ],
      "metadata": {
        "id": "gCX9965dhzqZ"
      }
    },
    {
      "cell_type": "markdown",
      "source": [
        "Write the conclusion here."
      ],
      "metadata": {
        "id": "Fjb1IsQkh3yE"
      }
    },
    {
      "cell_type": "markdown",
      "source": [
        "### ***Hurrah! You have successfully completed your Machine Learning Capstone Project !!!***"
      ],
      "metadata": {
        "id": "gIfDvo9L0UH2"
      }
    }
  ]
}